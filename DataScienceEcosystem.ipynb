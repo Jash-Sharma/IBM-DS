{
 "cells": [
  {
   "cell_type": "markdown",
   "id": "028ff711-d7d9-44b7-87e8-dbfa26a7c096",
   "metadata": {
    "tags": []
   },
   "source": [
    "# Data Science Tools and Ecosystem"
   ]
  },
  {
   "cell_type": "markdown",
   "id": "1ff8b7dd-f0ad-4745-8127-01edbd7bc109",
   "metadata": {
    "tags": []
   },
   "source": [
    "In this notebook, Data Science Tools and Ecosystem are summarized."
   ]
  },
  {
   "cell_type": "markdown",
   "id": "b128c70b-f5a7-4e7f-8e5c-3e7c437ec293",
   "metadata": {},
   "source": [
    "**Objective**\n",
    "- List of popular languages for data science\n",
    "- List of common tools for data science\n",
    "- List of commonly used libraries for data science\n",
    "- Evaluation of arithmetic expressions\n",
    "- Conversion from minutes to hours\n"
   ]
  },
  {
   "cell_type": "markdown",
   "id": "50325337-fbc5-42ad-9041-92a514d7d4b9",
   "metadata": {
    "tags": []
   },
   "source": [
    "Some of the popular languages that Data Scientists use are:\n",
    "1. Python\n",
    "2. R\n",
    "3. Julia\n",
    "4. Scala\n",
    "5. C++"
   ]
  },
  {
   "cell_type": "markdown",
   "id": "2eb9e4cf-9c41-4a75-a8d7-238a15562b9e",
   "metadata": {},
   "source": [
    "Some of the commonly used libraries used by Data Scientists include:\n",
    "1. Scikit-learn\n",
    "2. Caret\n",
    "3. ggplot\n",
    "4. Keras\n",
    "5. PyTorch"
   ]
  },
  {
   "cell_type": "markdown",
   "id": "ab35d28e-ab41-4c99-964d-069c6c7c9fea",
   "metadata": {},
   "source": [
    "<table>\n",
    "    <tr>\n",
    "        <th>Data Science Tools</th>\n",
    "    </tr>\n",
    "    <tr>\n",
    "        <td>VSCode</td>\n",
    "    </tr>\n",
    "    <tr>\n",
    "        <td>RStudio</td>\n",
    "    </tr>\n",
    "    <tr>\n",
    "        <td>Spyder</td>\n",
    "    </tr>\n",
    "</table>"
   ]
  },
  {
   "cell_type": "markdown",
   "id": "6956e234-0d13-45b6-bf70-a016420cde95",
   "metadata": {},
   "source": [
    "### Below are a few examples of evaluating arithmetic expressions in Python"
   ]
  },
  {
   "cell_type": "code",
   "execution_count": 5,
   "id": "d928c49b-7f4e-412f-81a7-c25720a7ee53",
   "metadata": {
    "tags": []
   },
   "outputs": [
    {
     "data": {
      "text/plain": [
       "17"
      ]
     },
     "execution_count": 5,
     "metadata": {},
     "output_type": "execute_result"
    }
   ],
   "source": [
    "# This a simple arithmetic expression to mutiply then add integers\n",
    "(3*4)+5"
   ]
  },
  {
   "cell_type": "code",
   "execution_count": 6,
   "id": "a157c2ad-4716-4309-8d59-03a7db7a435b",
   "metadata": {
    "tags": []
   },
   "outputs": [
    {
     "data": {
      "text/plain": [
       "3.3333333333333335"
      ]
     },
     "execution_count": 6,
     "metadata": {},
     "output_type": "execute_result"
    }
   ],
   "source": [
    "# This will convert 200 minutes to hours by diving by 60\n",
    "200 / 60"
   ]
  },
  {
   "cell_type": "markdown",
   "id": "d293202c-d2fb-4b1d-a125-315336ed7160",
   "metadata": {},
   "source": [
    "## Author\n",
    "Jash Sharma"
   ]
  }
 ],
 "metadata": {
  "kernelspec": {
   "display_name": "Python",
   "language": "python",
   "name": "conda-env-python-py"
  },
  "language_info": {
   "codemirror_mode": {
    "name": "ipython",
    "version": 3
   },
   "file_extension": ".py",
   "mimetype": "text/x-python",
   "name": "python",
   "nbconvert_exporter": "python",
   "pygments_lexer": "ipython3",
   "version": "3.7.12"
  }
 },
 "nbformat": 4,
 "nbformat_minor": 5
}
